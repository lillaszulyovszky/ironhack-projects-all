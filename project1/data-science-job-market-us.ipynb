{
 "cells": [
  {
   "cell_type": "markdown",
   "id": "sharp-fiction",
   "metadata": {},
   "source": [
    "# Introduction of the Dataset and Analysis Plan"
   ]
  },
  {
   "cell_type": "markdown",
   "id": "contrary-navigator",
   "metadata": {},
   "source": [
    "### Structure of the dataset"
   ]
  },
  {
   "cell_type": "markdown",
   "id": "requested-marriage",
   "metadata": {},
   "source": [
    "We have a couple of options to choose from with datasets:\n",
    "    - alldata.csv\n",
    "    - 15 different states csv's\n",
    "    \n",
    "Ideally, we would like to see all of them in one because our plan is to answer these questions:\n",
    "\n",
    "- How many job ads fit the Data Analyst skillset?\n",
    "- Which are the top employers by number of job ads?\n",
    "- What's the number of job ads which has salary information vs do not have salary information? \n"
   ]
  },
  {
   "cell_type": "markdown",
   "id": "emerging-finland",
   "metadata": {},
   "source": [
    "We concluded \n",
    "- that we cannot define who was hired because we don't know the end result of the hiring process\n",
    "- that we might miss some data because the same tasks, skills, positions are expressed differently"
   ]
  },
  {
   "cell_type": "markdown",
   "id": "unauthorized-updating",
   "metadata": {},
   "source": [
    "\n",
    "We will look at the datasets' statistics, datatypes, missing and duplicated values as well as visually assess it to define cleaning steps."
   ]
  },
  {
   "cell_type": "markdown",
   "id": "dutch-sauce",
   "metadata": {},
   "source": [
    "\n",
    "**Columns**\n",
    "\n",
    "position: title of the position\n",
    "\n",
    "company: name of the companies\n",
    "\n",
    "description: job description\n",
    "\n",
    "reviews: reviews of job ads\n",
    "\n",
    "location: location of the job ads\n"
   ]
  },
  {
   "cell_type": "markdown",
   "id": "functional-patch",
   "metadata": {},
   "source": [
    "## Assessment"
   ]
  },
  {
   "cell_type": "code",
   "execution_count": 263,
   "id": "moderate-emission",
   "metadata": {},
   "outputs": [],
   "source": [
    "import pandas as pd\n",
    "import numpy as np\n",
    "import matplotlib.pyplot as plt\n",
    "import seaborn as sb"
   ]
  },
  {
   "cell_type": "code",
   "execution_count": 264,
   "id": "precious-summary",
   "metadata": {},
   "outputs": [],
   "source": [
    "# read csv\n",
    "df = pd.read_csv('alldata.csv')"
   ]
  },
  {
   "cell_type": "code",
   "execution_count": 265,
   "id": "brilliant-brooklyn",
   "metadata": {},
   "outputs": [],
   "source": [
    "df_copy = df.copy()"
   ]
  },
  {
   "cell_type": "code",
   "execution_count": 266,
   "id": "governmental-company",
   "metadata": {},
   "outputs": [
    {
     "data": {
      "text/plain": [
       "(6964, 5)"
      ]
     },
     "execution_count": 266,
     "metadata": {},
     "output_type": "execute_result"
    }
   ],
   "source": [
    "# assess shape\n",
    "df.shape"
   ]
  },
  {
   "cell_type": "code",
   "execution_count": 267,
   "id": "amended-nursing",
   "metadata": {},
   "outputs": [
    {
     "data": {
      "text/html": [
       "<div>\n",
       "<style scoped>\n",
       "    .dataframe tbody tr th:only-of-type {\n",
       "        vertical-align: middle;\n",
       "    }\n",
       "\n",
       "    .dataframe tbody tr th {\n",
       "        vertical-align: top;\n",
       "    }\n",
       "\n",
       "    .dataframe thead th {\n",
       "        text-align: right;\n",
       "    }\n",
       "</style>\n",
       "<table border=\"1\" class=\"dataframe\">\n",
       "  <thead>\n",
       "    <tr style=\"text-align: right;\">\n",
       "      <th></th>\n",
       "      <th>position</th>\n",
       "      <th>company</th>\n",
       "      <th>description</th>\n",
       "      <th>reviews</th>\n",
       "      <th>location</th>\n",
       "    </tr>\n",
       "  </thead>\n",
       "  <tbody>\n",
       "    <tr>\n",
       "      <th>0</th>\n",
       "      <td>Development Director</td>\n",
       "      <td>ALS TDI</td>\n",
       "      <td>Development Director\\nALS Therapy Development ...</td>\n",
       "      <td>NaN</td>\n",
       "      <td>Atlanta, GA 30301</td>\n",
       "    </tr>\n",
       "    <tr>\n",
       "      <th>1</th>\n",
       "      <td>An Ostentatiously-Excitable Principal Research...</td>\n",
       "      <td>The Hexagon Lavish</td>\n",
       "      <td>Job Description\\n\\n\"The road that leads to acc...</td>\n",
       "      <td>NaN</td>\n",
       "      <td>Atlanta, GA</td>\n",
       "    </tr>\n",
       "    <tr>\n",
       "      <th>2</th>\n",
       "      <td>Data Scientist</td>\n",
       "      <td>Xpert Staffing</td>\n",
       "      <td>Growing company located in the Atlanta, GA are...</td>\n",
       "      <td>NaN</td>\n",
       "      <td>Atlanta, GA</td>\n",
       "    </tr>\n",
       "    <tr>\n",
       "      <th>3</th>\n",
       "      <td>Data Analyst</td>\n",
       "      <td>Operation HOPE</td>\n",
       "      <td>DEPARTMENT: Program OperationsPOSITION LOCATIO...</td>\n",
       "      <td>44.0</td>\n",
       "      <td>Atlanta, GA 30303</td>\n",
       "    </tr>\n",
       "    <tr>\n",
       "      <th>4</th>\n",
       "      <td>Assistant Professor -TT - Signal Processing &amp; ...</td>\n",
       "      <td>Emory University</td>\n",
       "      <td>DESCRIPTION\\nThe Emory University Department o...</td>\n",
       "      <td>550.0</td>\n",
       "      <td>Atlanta, GA</td>\n",
       "    </tr>\n",
       "    <tr>\n",
       "      <th>5</th>\n",
       "      <td>Manager of Data Engineering</td>\n",
       "      <td>McKinsey &amp; Company</td>\n",
       "      <td>Qualifications\\nBachelor’s degree in Computer ...</td>\n",
       "      <td>385.0</td>\n",
       "      <td>Atlanta, GA 30318</td>\n",
       "    </tr>\n",
       "    <tr>\n",
       "      <th>6</th>\n",
       "      <td>Product Specialist - Periscope, New Ventures</td>\n",
       "      <td>McKinsey &amp; Company</td>\n",
       "      <td>Qualifications\\nBachelor’s degree\\n5-7 years o...</td>\n",
       "      <td>385.0</td>\n",
       "      <td>Atlanta, GA 30318</td>\n",
       "    </tr>\n",
       "    <tr>\n",
       "      <th>7</th>\n",
       "      <td>Junior to Mid-level Engineer, Geologist or Env...</td>\n",
       "      <td>Wood</td>\n",
       "      <td>Overview / Responsibilities\\nWood Environment ...</td>\n",
       "      <td>899.0</td>\n",
       "      <td>Atlanta, GA</td>\n",
       "    </tr>\n",
       "    <tr>\n",
       "      <th>8</th>\n",
       "      <td>Analyst - CIB Credit Research</td>\n",
       "      <td>SunTrust</td>\n",
       "      <td>Works closely with senior CIB professionals. P...</td>\n",
       "      <td>3343.0</td>\n",
       "      <td>Atlanta, GA</td>\n",
       "    </tr>\n",
       "    <tr>\n",
       "      <th>9</th>\n",
       "      <td>Senior Associate - Cognitive Data Scientist Na...</td>\n",
       "      <td>KPMG</td>\n",
       "      <td>Known for being a great place to work and buil...</td>\n",
       "      <td>4494.0</td>\n",
       "      <td>Atlanta, GA 30338</td>\n",
       "    </tr>\n",
       "    <tr>\n",
       "      <th>10</th>\n",
       "      <td>STATISTICAL FORECAST ANALYST</td>\n",
       "      <td>The Home Depot</td>\n",
       "      <td>:\\n\\nThe Statistical Forecast Analyst position...</td>\n",
       "      <td>38844.0</td>\n",
       "      <td>Atlanta, GA</td>\n",
       "    </tr>\n",
       "    <tr>\n",
       "      <th>11</th>\n",
       "      <td>Health Scientist III-CPTS</td>\n",
       "      <td>Chenega Corporation</td>\n",
       "      <td>Chenega Professional &amp;amp; Technical Services,...</td>\n",
       "      <td>390.0</td>\n",
       "      <td>Atlanta, GA</td>\n",
       "    </tr>\n",
       "    <tr>\n",
       "      <th>12</th>\n",
       "      <td>Senior Associate, Data Scientist</td>\n",
       "      <td>KPMG</td>\n",
       "      <td>Innovate. Collaborate. Shine. Lighthouse — KPM...</td>\n",
       "      <td>4494.0</td>\n",
       "      <td>Atlanta, GA 30338</td>\n",
       "    </tr>\n",
       "    <tr>\n",
       "      <th>13</th>\n",
       "      <td>Assistant Scientist (AR) SOM</td>\n",
       "      <td>Emory University</td>\n",
       "      <td>DESCRIPTION\\nUnder minimal supervision, the As...</td>\n",
       "      <td>550.0</td>\n",
       "      <td>Atlanta, GA</td>\n",
       "    </tr>\n",
       "    <tr>\n",
       "      <th>14</th>\n",
       "      <td>Business Intelligence Data Science Analyst - S...</td>\n",
       "      <td>Newell Brands</td>\n",
       "      <td>Data Science Analyst– Business Intelligence\\nL...</td>\n",
       "      <td>912.0</td>\n",
       "      <td>Atlanta, GA</td>\n",
       "    </tr>\n",
       "    <tr>\n",
       "      <th>15</th>\n",
       "      <td>Data Scientist</td>\n",
       "      <td>Cotiviti</td>\n",
       "      <td>Cotiviti is looking for an industry leading Da...</td>\n",
       "      <td>104.0</td>\n",
       "      <td>Atlanta, GA</td>\n",
       "    </tr>\n",
       "    <tr>\n",
       "      <th>16</th>\n",
       "      <td>Senior Structural Engineer-Transmission &amp; Dist...</td>\n",
       "      <td>Burns &amp; McDonnell</td>\n",
       "      <td>Description\\nExecutes complex assignments requ...</td>\n",
       "      <td>152.0</td>\n",
       "      <td>Atlanta, GA 30309</td>\n",
       "    </tr>\n",
       "    <tr>\n",
       "      <th>17</th>\n",
       "      <td>Senior Mobile Developer (iOS/Android)</td>\n",
       "      <td>Perficient</td>\n",
       "      <td>Overview\\n\\n\\n\\nAt Perficient you’ll deliver m...</td>\n",
       "      <td>44.0</td>\n",
       "      <td>Atlanta, GA 30338</td>\n",
       "    </tr>\n",
       "    <tr>\n",
       "      <th>18</th>\n",
       "      <td>Data Scientist</td>\n",
       "      <td>Relus Cloud</td>\n",
       "      <td>DATA SCIENTIST\\n\\nSUMMARY:\\nAs an Amazon Web S...</td>\n",
       "      <td>NaN</td>\n",
       "      <td>Atlanta, GA</td>\n",
       "    </tr>\n",
       "    <tr>\n",
       "      <th>19</th>\n",
       "      <td>Data Scientist</td>\n",
       "      <td>Inspire Brands</td>\n",
       "      <td>This position is critical to understanding dri...</td>\n",
       "      <td>NaN</td>\n",
       "      <td>Atlanta, GA</td>\n",
       "    </tr>\n",
       "  </tbody>\n",
       "</table>\n",
       "</div>"
      ],
      "text/plain": [
       "                                             position              company  \\\n",
       "0                                Development Director              ALS TDI   \n",
       "1   An Ostentatiously-Excitable Principal Research...   The Hexagon Lavish   \n",
       "2                                      Data Scientist       Xpert Staffing   \n",
       "3                                        Data Analyst       Operation HOPE   \n",
       "4   Assistant Professor -TT - Signal Processing & ...     Emory University   \n",
       "5                         Manager of Data Engineering   McKinsey & Company   \n",
       "6        Product Specialist - Periscope, New Ventures   McKinsey & Company   \n",
       "7   Junior to Mid-level Engineer, Geologist or Env...                 Wood   \n",
       "8                       Analyst - CIB Credit Research             SunTrust   \n",
       "9   Senior Associate - Cognitive Data Scientist Na...                 KPMG   \n",
       "10                       STATISTICAL FORECAST ANALYST       The Home Depot   \n",
       "11                          Health Scientist III-CPTS  Chenega Corporation   \n",
       "12                   Senior Associate, Data Scientist                 KPMG   \n",
       "13                       Assistant Scientist (AR) SOM     Emory University   \n",
       "14  Business Intelligence Data Science Analyst - S...        Newell Brands   \n",
       "15                                     Data Scientist             Cotiviti   \n",
       "16  Senior Structural Engineer-Transmission & Dist...    Burns & McDonnell   \n",
       "17              Senior Mobile Developer (iOS/Android)           Perficient   \n",
       "18                                     Data Scientist          Relus Cloud   \n",
       "19                                     Data Scientist       Inspire Brands   \n",
       "\n",
       "                                          description  reviews  \\\n",
       "0   Development Director\\nALS Therapy Development ...      NaN   \n",
       "1   Job Description\\n\\n\"The road that leads to acc...      NaN   \n",
       "2   Growing company located in the Atlanta, GA are...      NaN   \n",
       "3   DEPARTMENT: Program OperationsPOSITION LOCATIO...     44.0   \n",
       "4   DESCRIPTION\\nThe Emory University Department o...    550.0   \n",
       "5   Qualifications\\nBachelor’s degree in Computer ...    385.0   \n",
       "6   Qualifications\\nBachelor’s degree\\n5-7 years o...    385.0   \n",
       "7   Overview / Responsibilities\\nWood Environment ...    899.0   \n",
       "8   Works closely with senior CIB professionals. P...   3343.0   \n",
       "9   Known for being a great place to work and buil...   4494.0   \n",
       "10  :\\n\\nThe Statistical Forecast Analyst position...  38844.0   \n",
       "11  Chenega Professional &amp; Technical Services,...    390.0   \n",
       "12  Innovate. Collaborate. Shine. Lighthouse — KPM...   4494.0   \n",
       "13  DESCRIPTION\\nUnder minimal supervision, the As...    550.0   \n",
       "14  Data Science Analyst– Business Intelligence\\nL...    912.0   \n",
       "15  Cotiviti is looking for an industry leading Da...    104.0   \n",
       "16  Description\\nExecutes complex assignments requ...    152.0   \n",
       "17  Overview\\n\\n\\n\\nAt Perficient you’ll deliver m...     44.0   \n",
       "18  DATA SCIENTIST\\n\\nSUMMARY:\\nAs an Amazon Web S...      NaN   \n",
       "19  This position is critical to understanding dri...      NaN   \n",
       "\n",
       "              location  \n",
       "0   Atlanta, GA 30301   \n",
       "1          Atlanta, GA  \n",
       "2          Atlanta, GA  \n",
       "3   Atlanta, GA 30303   \n",
       "4          Atlanta, GA  \n",
       "5   Atlanta, GA 30318   \n",
       "6   Atlanta, GA 30318   \n",
       "7          Atlanta, GA  \n",
       "8          Atlanta, GA  \n",
       "9    Atlanta, GA 30338  \n",
       "10         Atlanta, GA  \n",
       "11         Atlanta, GA  \n",
       "12   Atlanta, GA 30338  \n",
       "13         Atlanta, GA  \n",
       "14         Atlanta, GA  \n",
       "15         Atlanta, GA  \n",
       "16  Atlanta, GA 30309   \n",
       "17   Atlanta, GA 30338  \n",
       "18         Atlanta, GA  \n",
       "19         Atlanta, GA  "
      ]
     },
     "execution_count": 267,
     "metadata": {},
     "output_type": "execute_result"
    }
   ],
   "source": [
    "# assess first 20 rows \n",
    "df.head(20)"
   ]
  },
  {
   "cell_type": "code",
   "execution_count": 268,
   "id": "appropriate-regard",
   "metadata": {},
   "outputs": [
    {
     "data": {
      "text/html": [
       "<div>\n",
       "<style scoped>\n",
       "    .dataframe tbody tr th:only-of-type {\n",
       "        vertical-align: middle;\n",
       "    }\n",
       "\n",
       "    .dataframe tbody tr th {\n",
       "        vertical-align: top;\n",
       "    }\n",
       "\n",
       "    .dataframe thead th {\n",
       "        text-align: right;\n",
       "    }\n",
       "</style>\n",
       "<table border=\"1\" class=\"dataframe\">\n",
       "  <thead>\n",
       "    <tr style=\"text-align: right;\">\n",
       "      <th></th>\n",
       "      <th>position</th>\n",
       "      <th>company</th>\n",
       "      <th>description</th>\n",
       "      <th>reviews</th>\n",
       "      <th>location</th>\n",
       "    </tr>\n",
       "  </thead>\n",
       "  <tbody>\n",
       "    <tr>\n",
       "      <th>6944</th>\n",
       "      <td>Staff Data Scientist, Search/Online Grocery</td>\n",
       "      <td>Walmart eCommerce</td>\n",
       "      <td>Position Description\\nIn this role you will\\nA...</td>\n",
       "      <td>141.0</td>\n",
       "      <td>Sunnyvale, CA</td>\n",
       "    </tr>\n",
       "    <tr>\n",
       "      <th>6945</th>\n",
       "      <td>Machine Learning Specialist, Trust and Safety</td>\n",
       "      <td>Google</td>\n",
       "      <td>Google's brand is only as strong as our users'...</td>\n",
       "      <td>2474.0</td>\n",
       "      <td>Sunnyvale, CA</td>\n",
       "    </tr>\n",
       "    <tr>\n",
       "      <th>6946</th>\n",
       "      <td>Research Scientist</td>\n",
       "      <td>Amazon.com</td>\n",
       "      <td>Job Description\\nAlexa is the Amazon cloud ser...</td>\n",
       "      <td>25907.0</td>\n",
       "      <td>Sunnyvale, CA</td>\n",
       "    </tr>\n",
       "    <tr>\n",
       "      <th>6947</th>\n",
       "      <td>Applied Machine Learning Scientist</td>\n",
       "      <td>Amazon.com</td>\n",
       "      <td>Job Description\\nExternal job description\\nAma...</td>\n",
       "      <td>25907.0</td>\n",
       "      <td>Sunnyvale, CA</td>\n",
       "    </tr>\n",
       "    <tr>\n",
       "      <th>6948</th>\n",
       "      <td>Scientist</td>\n",
       "      <td>Microsoft</td>\n",
       "      <td>We are the Azure Big Data teams part of the C+...</td>\n",
       "      <td>4618.0</td>\n",
       "      <td>Sunnyvale, CA</td>\n",
       "    </tr>\n",
       "    <tr>\n",
       "      <th>6949</th>\n",
       "      <td>Systems software Performance Data Scientist Su...</td>\n",
       "      <td>Alibaba</td>\n",
       "      <td>We are the System Performance Team of Alibaba ...</td>\n",
       "      <td>15.0</td>\n",
       "      <td>Sunnyvale, CA</td>\n",
       "    </tr>\n",
       "    <tr>\n",
       "      <th>6950</th>\n",
       "      <td>Applied Scientist - Alexa Engine</td>\n",
       "      <td>Amazon.com</td>\n",
       "      <td>Job Description\\nInterested in making the ‘Ale...</td>\n",
       "      <td>25907.0</td>\n",
       "      <td>Sunnyvale, CA</td>\n",
       "    </tr>\n",
       "    <tr>\n",
       "      <th>6951</th>\n",
       "      <td>Lead Data Scientist - NLP</td>\n",
       "      <td>TARGET</td>\n",
       "      <td>Description:\\n\\nAbout This Opportunity\\nJoin t...</td>\n",
       "      <td>33275.0</td>\n",
       "      <td>Sunnyvale, CA</td>\n",
       "    </tr>\n",
       "    <tr>\n",
       "      <th>6952</th>\n",
       "      <td>Image processing Deep learning Research Scientist</td>\n",
       "      <td>Whiterabbit.ai</td>\n",
       "      <td>Whiterabbit.ai is a leading venture-backed sta...</td>\n",
       "      <td>NaN</td>\n",
       "      <td>Sunnyvale, CA 94085</td>\n",
       "    </tr>\n",
       "    <tr>\n",
       "      <th>6953</th>\n",
       "      <td>Machine Learning Scientist, Amazon Alexa</td>\n",
       "      <td>Amazon.com</td>\n",
       "      <td>Job Description\\nAmazon is looking for a passi...</td>\n",
       "      <td>25907.0</td>\n",
       "      <td>Sunnyvale, CA</td>\n",
       "    </tr>\n",
       "    <tr>\n",
       "      <th>6954</th>\n",
       "      <td>Global Mobility Specialist, Immigration</td>\n",
       "      <td>Google</td>\n",
       "      <td>Google is known for our innovative technologie...</td>\n",
       "      <td>2474.0</td>\n",
       "      <td>Sunnyvale, CA</td>\n",
       "    </tr>\n",
       "    <tr>\n",
       "      <th>6955</th>\n",
       "      <td>Data Engineer</td>\n",
       "      <td>Amazon.com</td>\n",
       "      <td>Job Description\\nToday, people spend too much ...</td>\n",
       "      <td>25907.0</td>\n",
       "      <td>Sunnyvale, CA</td>\n",
       "    </tr>\n",
       "    <tr>\n",
       "      <th>6956</th>\n",
       "      <td>Manager, Machine Learning</td>\n",
       "      <td>Amazon.com</td>\n",
       "      <td>Job Description\\nAlexa is Amazon's new cloud-b...</td>\n",
       "      <td>25907.0</td>\n",
       "      <td>Sunnyvale, CA</td>\n",
       "    </tr>\n",
       "    <tr>\n",
       "      <th>6957</th>\n",
       "      <td>Lead Data Scientist - Haskell</td>\n",
       "      <td>TARGET</td>\n",
       "      <td>Description:\\nTarget is looking for engineers ...</td>\n",
       "      <td>33275.0</td>\n",
       "      <td>Sunnyvale, CA</td>\n",
       "    </tr>\n",
       "    <tr>\n",
       "      <th>6958</th>\n",
       "      <td>Senior Data Scientist (GEC11902)</td>\n",
       "      <td>Walmart</td>\n",
       "      <td>Position Description\\nProficient in Java or Py...</td>\n",
       "      <td>148114.0</td>\n",
       "      <td>Sunnyvale, CA 94086</td>\n",
       "    </tr>\n",
       "    <tr>\n",
       "      <th>6959</th>\n",
       "      <td>Data Developer / Machine Learning Analyst</td>\n",
       "      <td>NetApp</td>\n",
       "      <td>Are you data-driven? We at NetApp believe in t...</td>\n",
       "      <td>574.0</td>\n",
       "      <td>Sunnyvale, CA</td>\n",
       "    </tr>\n",
       "    <tr>\n",
       "      <th>6960</th>\n",
       "      <td>Scientist I</td>\n",
       "      <td>Pharmacyclics, an Abbvie Company</td>\n",
       "      <td>Pharmacyclics is committed to the development ...</td>\n",
       "      <td>26.0</td>\n",
       "      <td>Sunnyvale, CA</td>\n",
       "    </tr>\n",
       "    <tr>\n",
       "      <th>6961</th>\n",
       "      <td>Intern Scientist</td>\n",
       "      <td>Oath Inc</td>\n",
       "      <td>Oath, a subsidiary of Verizon, is a values-led...</td>\n",
       "      <td>5.0</td>\n",
       "      <td>Sunnyvale, CA</td>\n",
       "    </tr>\n",
       "    <tr>\n",
       "      <th>6962</th>\n",
       "      <td>Senior Data &amp; Applied Scientist</td>\n",
       "      <td>Microsoft</td>\n",
       "      <td>We are the Bing Core Relevance team responsibl...</td>\n",
       "      <td>4618.0</td>\n",
       "      <td>Sunnyvale, CA</td>\n",
       "    </tr>\n",
       "    <tr>\n",
       "      <th>6963</th>\n",
       "      <td>Principal Data Scientist, Deep Learning</td>\n",
       "      <td>Comcast</td>\n",
       "      <td>Comcast’s Technology &amp;amp; Product organizatio...</td>\n",
       "      <td>11610.0</td>\n",
       "      <td>Sunnyvale, CA 94089</td>\n",
       "    </tr>\n",
       "  </tbody>\n",
       "</table>\n",
       "</div>"
      ],
      "text/plain": [
       "                                               position  \\\n",
       "6944        Staff Data Scientist, Search/Online Grocery   \n",
       "6945      Machine Learning Specialist, Trust and Safety   \n",
       "6946                                 Research Scientist   \n",
       "6947                 Applied Machine Learning Scientist   \n",
       "6948                                          Scientist   \n",
       "6949  Systems software Performance Data Scientist Su...   \n",
       "6950                   Applied Scientist - Alexa Engine   \n",
       "6951                          Lead Data Scientist - NLP   \n",
       "6952  Image processing Deep learning Research Scientist   \n",
       "6953           Machine Learning Scientist, Amazon Alexa   \n",
       "6954            Global Mobility Specialist, Immigration   \n",
       "6955                                      Data Engineer   \n",
       "6956                          Manager, Machine Learning   \n",
       "6957                      Lead Data Scientist - Haskell   \n",
       "6958                   Senior Data Scientist (GEC11902)   \n",
       "6959          Data Developer / Machine Learning Analyst   \n",
       "6960                                        Scientist I   \n",
       "6961                                   Intern Scientist   \n",
       "6962                    Senior Data & Applied Scientist   \n",
       "6963            Principal Data Scientist, Deep Learning   \n",
       "\n",
       "                               company  \\\n",
       "6944                 Walmart eCommerce   \n",
       "6945                            Google   \n",
       "6946                        Amazon.com   \n",
       "6947                        Amazon.com   \n",
       "6948                         Microsoft   \n",
       "6949                           Alibaba   \n",
       "6950                        Amazon.com   \n",
       "6951                            TARGET   \n",
       "6952                    Whiterabbit.ai   \n",
       "6953                        Amazon.com   \n",
       "6954                            Google   \n",
       "6955                        Amazon.com   \n",
       "6956                        Amazon.com   \n",
       "6957                            TARGET   \n",
       "6958                           Walmart   \n",
       "6959                            NetApp   \n",
       "6960  Pharmacyclics, an Abbvie Company   \n",
       "6961                          Oath Inc   \n",
       "6962                         Microsoft   \n",
       "6963                           Comcast   \n",
       "\n",
       "                                            description   reviews  \\\n",
       "6944  Position Description\\nIn this role you will\\nA...     141.0   \n",
       "6945  Google's brand is only as strong as our users'...    2474.0   \n",
       "6946  Job Description\\nAlexa is the Amazon cloud ser...   25907.0   \n",
       "6947  Job Description\\nExternal job description\\nAma...   25907.0   \n",
       "6948  We are the Azure Big Data teams part of the C+...    4618.0   \n",
       "6949  We are the System Performance Team of Alibaba ...      15.0   \n",
       "6950  Job Description\\nInterested in making the ‘Ale...   25907.0   \n",
       "6951  Description:\\n\\nAbout This Opportunity\\nJoin t...   33275.0   \n",
       "6952  Whiterabbit.ai is a leading venture-backed sta...       NaN   \n",
       "6953  Job Description\\nAmazon is looking for a passi...   25907.0   \n",
       "6954  Google is known for our innovative technologie...    2474.0   \n",
       "6955  Job Description\\nToday, people spend too much ...   25907.0   \n",
       "6956  Job Description\\nAlexa is Amazon's new cloud-b...   25907.0   \n",
       "6957  Description:\\nTarget is looking for engineers ...   33275.0   \n",
       "6958  Position Description\\nProficient in Java or Py...  148114.0   \n",
       "6959  Are you data-driven? We at NetApp believe in t...     574.0   \n",
       "6960  Pharmacyclics is committed to the development ...      26.0   \n",
       "6961  Oath, a subsidiary of Verizon, is a values-led...       5.0   \n",
       "6962  We are the Bing Core Relevance team responsibl...    4618.0   \n",
       "6963  Comcast’s Technology &amp; Product organizatio...   11610.0   \n",
       "\n",
       "                 location  \n",
       "6944        Sunnyvale, CA  \n",
       "6945        Sunnyvale, CA  \n",
       "6946        Sunnyvale, CA  \n",
       "6947        Sunnyvale, CA  \n",
       "6948        Sunnyvale, CA  \n",
       "6949        Sunnyvale, CA  \n",
       "6950        Sunnyvale, CA  \n",
       "6951        Sunnyvale, CA  \n",
       "6952  Sunnyvale, CA 94085  \n",
       "6953        Sunnyvale, CA  \n",
       "6954        Sunnyvale, CA  \n",
       "6955        Sunnyvale, CA  \n",
       "6956        Sunnyvale, CA  \n",
       "6957        Sunnyvale, CA  \n",
       "6958  Sunnyvale, CA 94086  \n",
       "6959        Sunnyvale, CA  \n",
       "6960        Sunnyvale, CA  \n",
       "6961        Sunnyvale, CA  \n",
       "6962        Sunnyvale, CA  \n",
       "6963  Sunnyvale, CA 94089  "
      ]
     },
     "execution_count": 268,
     "metadata": {},
     "output_type": "execute_result"
    }
   ],
   "source": [
    "# assess last 20 rows \n",
    "df.tail(20)"
   ]
  },
  {
   "cell_type": "code",
   "execution_count": 269,
   "id": "psychological-arena",
   "metadata": {},
   "outputs": [
    {
     "data": {
      "text/plain": [
       "position        object\n",
       "company         object\n",
       "description     object\n",
       "reviews        float64\n",
       "location        object\n",
       "dtype: object"
      ]
     },
     "execution_count": 269,
     "metadata": {},
     "output_type": "execute_result"
    }
   ],
   "source": [
    "# assess dtypes of columns\n",
    "df.dtypes"
   ]
  },
  {
   "cell_type": "code",
   "execution_count": 270,
   "id": "russian-archive",
   "metadata": {},
   "outputs": [
    {
     "data": {
      "text/html": [
       "<div>\n",
       "<style scoped>\n",
       "    .dataframe tbody tr th:only-of-type {\n",
       "        vertical-align: middle;\n",
       "    }\n",
       "\n",
       "    .dataframe tbody tr th {\n",
       "        vertical-align: top;\n",
       "    }\n",
       "\n",
       "    .dataframe thead th {\n",
       "        text-align: right;\n",
       "    }\n",
       "</style>\n",
       "<table border=\"1\" class=\"dataframe\">\n",
       "  <thead>\n",
       "    <tr style=\"text-align: right;\">\n",
       "      <th></th>\n",
       "      <th>reviews</th>\n",
       "    </tr>\n",
       "  </thead>\n",
       "  <tbody>\n",
       "    <tr>\n",
       "      <th>count</th>\n",
       "      <td>5326.000000</td>\n",
       "    </tr>\n",
       "    <tr>\n",
       "      <th>mean</th>\n",
       "      <td>3179.089185</td>\n",
       "    </tr>\n",
       "    <tr>\n",
       "      <th>std</th>\n",
       "      <td>8448.515056</td>\n",
       "    </tr>\n",
       "    <tr>\n",
       "      <th>min</th>\n",
       "      <td>2.000000</td>\n",
       "    </tr>\n",
       "    <tr>\n",
       "      <th>25%</th>\n",
       "      <td>27.000000</td>\n",
       "    </tr>\n",
       "    <tr>\n",
       "      <th>50%</th>\n",
       "      <td>230.000000</td>\n",
       "    </tr>\n",
       "    <tr>\n",
       "      <th>75%</th>\n",
       "      <td>1578.000000</td>\n",
       "    </tr>\n",
       "    <tr>\n",
       "      <th>max</th>\n",
       "      <td>148114.000000</td>\n",
       "    </tr>\n",
       "  </tbody>\n",
       "</table>\n",
       "</div>"
      ],
      "text/plain": [
       "             reviews\n",
       "count    5326.000000\n",
       "mean     3179.089185\n",
       "std      8448.515056\n",
       "min         2.000000\n",
       "25%        27.000000\n",
       "50%       230.000000\n",
       "75%      1578.000000\n",
       "max    148114.000000"
      ]
     },
     "execution_count": 270,
     "metadata": {},
     "output_type": "execute_result"
    }
   ],
   "source": [
    "# assess statistics of the dataset\n",
    "df.describe()"
   ]
  },
  {
   "cell_type": "code",
   "execution_count": 271,
   "id": "dominant-vietnamese",
   "metadata": {},
   "outputs": [
    {
     "name": "stdout",
     "output_type": "stream",
     "text": [
      "<class 'pandas.core.frame.DataFrame'>\n",
      "RangeIndex: 6964 entries, 0 to 6963\n",
      "Data columns (total 5 columns):\n",
      " #   Column       Non-Null Count  Dtype  \n",
      "---  ------       --------------  -----  \n",
      " 0   position     6953 non-null   object \n",
      " 1   company      6953 non-null   object \n",
      " 2   description  6953 non-null   object \n",
      " 3   reviews      5326 non-null   float64\n",
      " 4   location     6953 non-null   object \n",
      "dtypes: float64(1), object(4)\n",
      "memory usage: 272.2+ KB\n"
     ]
    }
   ],
   "source": [
    "# assess column non-null values set to see which column has missing values\n",
    "df.info()"
   ]
  },
  {
   "cell_type": "code",
   "execution_count": 272,
   "id": "requested-draft",
   "metadata": {},
   "outputs": [],
   "source": [
    "# assess percentage of null values\n",
    "dfnulls = pd.DataFrame(round(df.isna().sum()/len(df),4)*100)"
   ]
  },
  {
   "cell_type": "code",
   "execution_count": 273,
   "id": "expired-spectacular",
   "metadata": {},
   "outputs": [
    {
     "data": {
      "text/html": [
       "<div>\n",
       "<style scoped>\n",
       "    .dataframe tbody tr th:only-of-type {\n",
       "        vertical-align: middle;\n",
       "    }\n",
       "\n",
       "    .dataframe tbody tr th {\n",
       "        vertical-align: top;\n",
       "    }\n",
       "\n",
       "    .dataframe thead th {\n",
       "        text-align: right;\n",
       "    }\n",
       "</style>\n",
       "<table border=\"1\" class=\"dataframe\">\n",
       "  <thead>\n",
       "    <tr style=\"text-align: right;\">\n",
       "      <th></th>\n",
       "      <th>0</th>\n",
       "    </tr>\n",
       "  </thead>\n",
       "  <tbody>\n",
       "    <tr>\n",
       "      <th>position</th>\n",
       "      <td>0.16</td>\n",
       "    </tr>\n",
       "    <tr>\n",
       "      <th>company</th>\n",
       "      <td>0.16</td>\n",
       "    </tr>\n",
       "    <tr>\n",
       "      <th>description</th>\n",
       "      <td>0.16</td>\n",
       "    </tr>\n",
       "    <tr>\n",
       "      <th>reviews</th>\n",
       "      <td>23.52</td>\n",
       "    </tr>\n",
       "    <tr>\n",
       "      <th>location</th>\n",
       "      <td>0.16</td>\n",
       "    </tr>\n",
       "  </tbody>\n",
       "</table>\n",
       "</div>"
      ],
      "text/plain": [
       "                 0\n",
       "position      0.16\n",
       "company       0.16\n",
       "description   0.16\n",
       "reviews      23.52\n",
       "location      0.16"
      ]
     },
     "execution_count": 273,
     "metadata": {},
     "output_type": "execute_result"
    }
   ],
   "source": [
    "dfnulls"
   ]
  },
  {
   "cell_type": "code",
   "execution_count": 274,
   "id": "everyday-multiple",
   "metadata": {},
   "outputs": [
    {
     "data": {
      "text/plain": [
       "position         11\n",
       "company          11\n",
       "description      11\n",
       "reviews        1638\n",
       "location         11\n",
       "dtype: int64"
      ]
     },
     "execution_count": 274,
     "metadata": {},
     "output_type": "execute_result"
    }
   ],
   "source": [
    "# assess df's null values\n",
    "df.isnull().sum()"
   ]
  },
  {
   "cell_type": "code",
   "execution_count": 275,
   "id": "nasty-relaxation",
   "metadata": {},
   "outputs": [
    {
     "data": {
      "text/plain": [
       "10"
      ]
     },
     "execution_count": 275,
     "metadata": {},
     "output_type": "execute_result"
    }
   ],
   "source": [
    "# assess df's duplicated values\n",
    "sum(df.duplicated())"
   ]
  },
  {
   "cell_type": "code",
   "execution_count": 276,
   "id": "extraordinary-niger",
   "metadata": {},
   "outputs": [
    {
     "data": {
      "text/plain": [
       "Data Scientist                                         351\n",
       "Senior Data Scientist                                   96\n",
       "Research Analyst                                        64\n",
       "Data Engineer                                           60\n",
       "Machine Learning Engineer                               56\n",
       "                                                      ... \n",
       "Demand Forecaster                                        1\n",
       "Env Health & Safety Spec I                               1\n",
       "CCB - Risk-Fraud Data Scientist/Modeler-ML-Pipeline      1\n",
       "Quantitative Analyst – Quality & Operations              1\n",
       "Technology Solutions Professional- Data and AI           1\n",
       "Name: position, Length: 5242, dtype: int64"
      ]
     },
     "execution_count": 276,
     "metadata": {},
     "output_type": "execute_result"
    }
   ],
   "source": [
    "# assess frequency and list of values in different columns\n",
    "df['position'].value_counts()"
   ]
  },
  {
   "cell_type": "code",
   "execution_count": 277,
   "id": "laughing-worker",
   "metadata": {},
   "outputs": [
    {
     "data": {
      "text/plain": [
       "Amazon.com            358\n",
       "Ball Aerospace        187\n",
       "Microsoft             137\n",
       "Google                134\n",
       "NYU Langone Health     77\n",
       "                     ... \n",
       "VTS3                    1\n",
       "Lonza Biologics         1\n",
       "Marchex                 1\n",
       "Streetline              1\n",
       "Hopjump                 1\n",
       "Name: company, Length: 2213, dtype: int64"
      ]
     },
     "execution_count": 277,
     "metadata": {},
     "output_type": "execute_result"
    }
   ],
   "source": [
    "# assess frequency and list of values in different columns\n",
    "df['company'].value_counts()"
   ]
  },
  {
   "cell_type": "code",
   "execution_count": 278,
   "id": "buried-bradley",
   "metadata": {},
   "outputs": [
    {
     "data": {
      "text/plain": [
       "Seattle, WA             563\n",
       "New York, NY            508\n",
       "Cambridge, MA           487\n",
       "Boston, MA              454\n",
       "San Francisco, CA       425\n",
       "                       ... \n",
       "Washington, DC 20010      1\n",
       "Austin, TX 78751          1\n",
       "New York, NY 10055        1\n",
       "Seattle, WA 98134         1\n",
       "Washington, DC 20422      1\n",
       "Name: location, Length: 382, dtype: int64"
      ]
     },
     "execution_count": 278,
     "metadata": {},
     "output_type": "execute_result"
    }
   ],
   "source": [
    "# assess frequency and list of values in different columns\n",
    "df['location'].value_counts()"
   ]
  },
  {
   "cell_type": "markdown",
   "id": "finnish-olympus",
   "metadata": {},
   "source": [
    "## Outcome of Assesment\n",
    "\n"
   ]
  },
  {
   "cell_type": "markdown",
   "id": "filled-projection",
   "metadata": {},
   "source": [
    "### Cleaning steps\n",
    "\n",
    "**Description column: Karina/Lilla**\n",
    "\n",
    "- Scrape description column for Excel, R, Python, Tableau, Machine Learning, MySQL, SQL, A/B Tests, Data Mining, Data visualisation, (data visualization), Data Cleansing, Data Cleaning, Statistical modeling, Statistical Analysis\n",
    "\n",
    "- create a column which validates if they are present in the description with a function and returns a True/False value in the column\n",
    "\n",
    "- Scrape description column for levels: Entry-level, Junior/Associate,  Internship/Intern \n",
    "\n",
    "- create a column which validates if one is present in the description with a function and returns a True/False value in the column\n",
    "\n",
    "- Before dropping the rows we don’t need, we check the position value\n",
    "\n",
    "- Scrape for: dollars, $, salary \n",
    "\n",
    "- create a column which validates if one is present in the description with a function and returns a True/False value in the column\n",
    "\n",
    "- Check if it's valid\n",
    "\n",
    "\n",
    "\n",
    "**Position column: Karina/Lilla**\n",
    "\n",
    "- Relocate seniority level to a different column\n",
    "\n",
    "- Revisit when we have both new columns from description and position\n",
    "\n",
    "\n",
    "**Review column: Neil**\n",
    "\n",
    "- Drop it completely\n",
    "\n",
    "\n",
    "**Location column: Neil**\n",
    "\n",
    "- Check if there are typos\n",
    "- Check how many zip codes are missing and make a decision to fill them in or not"
   ]
  },
  {
   "cell_type": "code",
   "execution_count": 279,
   "id": "mechanical-cartoon",
   "metadata": {},
   "outputs": [
    {
     "data": {
      "text/html": [
       "<div>\n",
       "<style scoped>\n",
       "    .dataframe tbody tr th:only-of-type {\n",
       "        vertical-align: middle;\n",
       "    }\n",
       "\n",
       "    .dataframe tbody tr th {\n",
       "        vertical-align: top;\n",
       "    }\n",
       "\n",
       "    .dataframe thead th {\n",
       "        text-align: right;\n",
       "    }\n",
       "</style>\n",
       "<table border=\"1\" class=\"dataframe\">\n",
       "  <thead>\n",
       "    <tr style=\"text-align: right;\">\n",
       "      <th></th>\n",
       "      <th>position</th>\n",
       "      <th>company</th>\n",
       "      <th>description</th>\n",
       "      <th>reviews</th>\n",
       "      <th>location</th>\n",
       "    </tr>\n",
       "  </thead>\n",
       "  <tbody>\n",
       "    <tr>\n",
       "      <th>0</th>\n",
       "      <td>Development Director</td>\n",
       "      <td>ALS TDI</td>\n",
       "      <td>Development Director\\nALS Therapy Development ...</td>\n",
       "      <td>NaN</td>\n",
       "      <td>Atlanta, GA 30301</td>\n",
       "    </tr>\n",
       "    <tr>\n",
       "      <th>1</th>\n",
       "      <td>An Ostentatiously-Excitable Principal Research...</td>\n",
       "      <td>The Hexagon Lavish</td>\n",
       "      <td>Job Description\\n\\n\"The road that leads to acc...</td>\n",
       "      <td>NaN</td>\n",
       "      <td>Atlanta, GA</td>\n",
       "    </tr>\n",
       "    <tr>\n",
       "      <th>2</th>\n",
       "      <td>Data Scientist</td>\n",
       "      <td>Xpert Staffing</td>\n",
       "      <td>Growing company located in the Atlanta, GA are...</td>\n",
       "      <td>NaN</td>\n",
       "      <td>Atlanta, GA</td>\n",
       "    </tr>\n",
       "    <tr>\n",
       "      <th>3</th>\n",
       "      <td>Data Analyst</td>\n",
       "      <td>Operation HOPE</td>\n",
       "      <td>DEPARTMENT: Program OperationsPOSITION LOCATIO...</td>\n",
       "      <td>44.0</td>\n",
       "      <td>Atlanta, GA 30303</td>\n",
       "    </tr>\n",
       "    <tr>\n",
       "      <th>4</th>\n",
       "      <td>Assistant Professor -TT - Signal Processing &amp; ...</td>\n",
       "      <td>Emory University</td>\n",
       "      <td>DESCRIPTION\\nThe Emory University Department o...</td>\n",
       "      <td>550.0</td>\n",
       "      <td>Atlanta, GA</td>\n",
       "    </tr>\n",
       "  </tbody>\n",
       "</table>\n",
       "</div>"
      ],
      "text/plain": [
       "                                            position             company  \\\n",
       "0                               Development Director             ALS TDI   \n",
       "1  An Ostentatiously-Excitable Principal Research...  The Hexagon Lavish   \n",
       "2                                     Data Scientist      Xpert Staffing   \n",
       "3                                       Data Analyst      Operation HOPE   \n",
       "4  Assistant Professor -TT - Signal Processing & ...    Emory University   \n",
       "\n",
       "                                         description  reviews  \\\n",
       "0  Development Director\\nALS Therapy Development ...      NaN   \n",
       "1  Job Description\\n\\n\"The road that leads to acc...      NaN   \n",
       "2  Growing company located in the Atlanta, GA are...      NaN   \n",
       "3  DEPARTMENT: Program OperationsPOSITION LOCATIO...     44.0   \n",
       "4  DESCRIPTION\\nThe Emory University Department o...    550.0   \n",
       "\n",
       "             location  \n",
       "0  Atlanta, GA 30301   \n",
       "1         Atlanta, GA  \n",
       "2         Atlanta, GA  \n",
       "3  Atlanta, GA 30303   \n",
       "4         Atlanta, GA  "
      ]
     },
     "execution_count": 279,
     "metadata": {},
     "output_type": "execute_result"
    }
   ],
   "source": [
    "# read the first few rows again\n",
    "df.head()"
   ]
  },
  {
   "cell_type": "code",
   "execution_count": 280,
   "id": "ignored-territory",
   "metadata": {},
   "outputs": [],
   "source": [
    "# drop review column\n",
    "df = df.drop(['reviews'], axis=1)"
   ]
  },
  {
   "cell_type": "code",
   "execution_count": 281,
   "id": "imperial-currency",
   "metadata": {},
   "outputs": [
    {
     "name": "stdout",
     "output_type": "stream",
     "text": [
      "<class 'pandas.core.frame.DataFrame'>\n",
      "RangeIndex: 6964 entries, 0 to 6963\n",
      "Data columns (total 4 columns):\n",
      " #   Column       Non-Null Count  Dtype \n",
      "---  ------       --------------  ----- \n",
      " 0   position     6953 non-null   object\n",
      " 1   company      6953 non-null   object\n",
      " 2   description  6953 non-null   object\n",
      " 3   location     6953 non-null   object\n",
      "dtypes: object(4)\n",
      "memory usage: 217.8+ KB\n"
     ]
    }
   ],
   "source": [
    "# test\n",
    "df.info()"
   ]
  },
  {
   "cell_type": "code",
   "execution_count": 282,
   "id": "interpreted-calibration",
   "metadata": {},
   "outputs": [
    {
     "data": {
      "text/plain": [
       "(6964, 4)"
      ]
     },
     "execution_count": 282,
     "metadata": {},
     "output_type": "execute_result"
    }
   ],
   "source": [
    "df.shape"
   ]
  },
  {
   "cell_type": "code",
   "execution_count": 283,
   "id": "hungarian-guess",
   "metadata": {},
   "outputs": [],
   "source": [
    "# drop null values from other columns\n",
    "df = df.dropna()"
   ]
  },
  {
   "cell_type": "code",
   "execution_count": 284,
   "id": "brave-cooper",
   "metadata": {},
   "outputs": [
    {
     "name": "stdout",
     "output_type": "stream",
     "text": [
      "<class 'pandas.core.frame.DataFrame'>\n",
      "Int64Index: 6953 entries, 0 to 6963\n",
      "Data columns (total 4 columns):\n",
      " #   Column       Non-Null Count  Dtype \n",
      "---  ------       --------------  ----- \n",
      " 0   position     6953 non-null   object\n",
      " 1   company      6953 non-null   object\n",
      " 2   description  6953 non-null   object\n",
      " 3   location     6953 non-null   object\n",
      "dtypes: object(4)\n",
      "memory usage: 271.6+ KB\n"
     ]
    }
   ],
   "source": [
    "df.info()"
   ]
  },
  {
   "cell_type": "code",
   "execution_count": 285,
   "id": "foster-stress",
   "metadata": {},
   "outputs": [
    {
     "data": {
      "text/plain": [
       "(6953, 4)"
      ]
     },
     "execution_count": 285,
     "metadata": {},
     "output_type": "execute_result"
    }
   ],
   "source": [
    "df.shape"
   ]
  },
  {
   "cell_type": "code",
   "execution_count": 286,
   "id": "approved-skirt",
   "metadata": {},
   "outputs": [],
   "source": [
    "# change both columns to lowercase\n",
    "df['position'] = df['position'].str.lower()"
   ]
  },
  {
   "cell_type": "code",
   "execution_count": 287,
   "id": "pressed-dynamics",
   "metadata": {},
   "outputs": [],
   "source": [
    "df['description'] = df['description'].str.lower()"
   ]
  },
  {
   "cell_type": "code",
   "execution_count": 288,
   "id": "persistent-aberdeen",
   "metadata": {},
   "outputs": [
    {
     "data": {
      "text/html": [
       "<div>\n",
       "<style scoped>\n",
       "    .dataframe tbody tr th:only-of-type {\n",
       "        vertical-align: middle;\n",
       "    }\n",
       "\n",
       "    .dataframe tbody tr th {\n",
       "        vertical-align: top;\n",
       "    }\n",
       "\n",
       "    .dataframe thead th {\n",
       "        text-align: right;\n",
       "    }\n",
       "</style>\n",
       "<table border=\"1\" class=\"dataframe\">\n",
       "  <thead>\n",
       "    <tr style=\"text-align: right;\">\n",
       "      <th></th>\n",
       "      <th>position</th>\n",
       "      <th>company</th>\n",
       "      <th>description</th>\n",
       "      <th>location</th>\n",
       "    </tr>\n",
       "  </thead>\n",
       "  <tbody>\n",
       "    <tr>\n",
       "      <th>0</th>\n",
       "      <td>development director</td>\n",
       "      <td>ALS TDI</td>\n",
       "      <td>development director\\nals therapy development ...</td>\n",
       "      <td>Atlanta, GA 30301</td>\n",
       "    </tr>\n",
       "    <tr>\n",
       "      <th>1</th>\n",
       "      <td>an ostentatiously-excitable principal research...</td>\n",
       "      <td>The Hexagon Lavish</td>\n",
       "      <td>job description\\n\\n\"the road that leads to acc...</td>\n",
       "      <td>Atlanta, GA</td>\n",
       "    </tr>\n",
       "    <tr>\n",
       "      <th>2</th>\n",
       "      <td>data scientist</td>\n",
       "      <td>Xpert Staffing</td>\n",
       "      <td>growing company located in the atlanta, ga are...</td>\n",
       "      <td>Atlanta, GA</td>\n",
       "    </tr>\n",
       "    <tr>\n",
       "      <th>3</th>\n",
       "      <td>data analyst</td>\n",
       "      <td>Operation HOPE</td>\n",
       "      <td>department: program operationsposition locatio...</td>\n",
       "      <td>Atlanta, GA 30303</td>\n",
       "    </tr>\n",
       "    <tr>\n",
       "      <th>4</th>\n",
       "      <td>assistant professor -tt - signal processing &amp; ...</td>\n",
       "      <td>Emory University</td>\n",
       "      <td>description\\nthe emory university department o...</td>\n",
       "      <td>Atlanta, GA</td>\n",
       "    </tr>\n",
       "  </tbody>\n",
       "</table>\n",
       "</div>"
      ],
      "text/plain": [
       "                                            position             company  \\\n",
       "0                               development director             ALS TDI   \n",
       "1  an ostentatiously-excitable principal research...  The Hexagon Lavish   \n",
       "2                                     data scientist      Xpert Staffing   \n",
       "3                                       data analyst      Operation HOPE   \n",
       "4  assistant professor -tt - signal processing & ...    Emory University   \n",
       "\n",
       "                                         description            location  \n",
       "0  development director\\nals therapy development ...  Atlanta, GA 30301   \n",
       "1  job description\\n\\n\"the road that leads to acc...         Atlanta, GA  \n",
       "2  growing company located in the atlanta, ga are...         Atlanta, GA  \n",
       "3  department: program operationsposition locatio...  Atlanta, GA 30303   \n",
       "4  description\\nthe emory university department o...         Atlanta, GA  "
      ]
     },
     "execution_count": 288,
     "metadata": {},
     "output_type": "execute_result"
    }
   ],
   "source": [
    "#test \n",
    "df.head()"
   ]
  },
  {
   "cell_type": "code",
   "execution_count": 309,
   "id": "spanish-reaction",
   "metadata": {},
   "outputs": [],
   "source": [
    "# define list of skills of a Data Analyst\n",
    "lst_skills = ['Excel', 'R', 'Python', 'Tableau', 'Machine Learning', 'MySQL', \n",
    "              'SQL', 'A/B Tests', 'A/B Testing', 'Mining', 'Visualisation', 'Visualization',\n",
    "              'Cleansing', 'Cleaning', 'Statistical modeling', 'Statistical Analysis']\n",
    "\n",
    "# change uppercase letters to lowercase\n",
    "for i in range(len(lst_skills)):\n",
    "    lst_skills[i] = lst_skills[i].lower()\n",
    "    \n",
    "# create new column with boolean values\n",
    "df['skills_description'] = df['description'].str.contains(\" | \".join(lst_skills))"
   ]
  },
  {
   "cell_type": "code",
   "execution_count": 310,
   "id": "filled-cutting",
   "metadata": {},
   "outputs": [
    {
     "data": {
      "text/html": [
       "<div>\n",
       "<style scoped>\n",
       "    .dataframe tbody tr th:only-of-type {\n",
       "        vertical-align: middle;\n",
       "    }\n",
       "\n",
       "    .dataframe tbody tr th {\n",
       "        vertical-align: top;\n",
       "    }\n",
       "\n",
       "    .dataframe thead th {\n",
       "        text-align: right;\n",
       "    }\n",
       "</style>\n",
       "<table border=\"1\" class=\"dataframe\">\n",
       "  <thead>\n",
       "    <tr style=\"text-align: right;\">\n",
       "      <th></th>\n",
       "      <th>position</th>\n",
       "      <th>company</th>\n",
       "      <th>description</th>\n",
       "      <th>location</th>\n",
       "      <th>skills_description</th>\n",
       "      <th>skills_position</th>\n",
       "      <th>has_salary</th>\n",
       "    </tr>\n",
       "  </thead>\n",
       "  <tbody>\n",
       "    <tr>\n",
       "      <th>0</th>\n",
       "      <td>development director</td>\n",
       "      <td>ALS TDI</td>\n",
       "      <td>development director\\nals therapy development ...</td>\n",
       "      <td>Atlanta, GA 30301</td>\n",
       "      <td>False</td>\n",
       "      <td>False</td>\n",
       "      <td>True</td>\n",
       "    </tr>\n",
       "    <tr>\n",
       "      <th>1</th>\n",
       "      <td>an ostentatiously-excitable principal research...</td>\n",
       "      <td>The Hexagon Lavish</td>\n",
       "      <td>job description\\n\\n\"the road that leads to acc...</td>\n",
       "      <td>Atlanta, GA</td>\n",
       "      <td>True</td>\n",
       "      <td>False</td>\n",
       "      <td>False</td>\n",
       "    </tr>\n",
       "    <tr>\n",
       "      <th>2</th>\n",
       "      <td>data scientist</td>\n",
       "      <td>Xpert Staffing</td>\n",
       "      <td>growing company located in the atlanta, ga are...</td>\n",
       "      <td>Atlanta, GA</td>\n",
       "      <td>True</td>\n",
       "      <td>False</td>\n",
       "      <td>True</td>\n",
       "    </tr>\n",
       "    <tr>\n",
       "      <th>3</th>\n",
       "      <td>data analyst</td>\n",
       "      <td>Operation HOPE</td>\n",
       "      <td>department: program operationsposition locatio...</td>\n",
       "      <td>Atlanta, GA 30303</td>\n",
       "      <td>True</td>\n",
       "      <td>True</td>\n",
       "      <td>False</td>\n",
       "    </tr>\n",
       "    <tr>\n",
       "      <th>4</th>\n",
       "      <td>assistant professor -tt - signal processing &amp; ...</td>\n",
       "      <td>Emory University</td>\n",
       "      <td>description\\nthe emory university department o...</td>\n",
       "      <td>Atlanta, GA</td>\n",
       "      <td>False</td>\n",
       "      <td>False</td>\n",
       "      <td>False</td>\n",
       "    </tr>\n",
       "  </tbody>\n",
       "</table>\n",
       "</div>"
      ],
      "text/plain": [
       "                                            position             company  \\\n",
       "0                               development director             ALS TDI   \n",
       "1  an ostentatiously-excitable principal research...  The Hexagon Lavish   \n",
       "2                                     data scientist      Xpert Staffing   \n",
       "3                                       data analyst      Operation HOPE   \n",
       "4  assistant professor -tt - signal processing & ...    Emory University   \n",
       "\n",
       "                                         description            location  \\\n",
       "0  development director\\nals therapy development ...  Atlanta, GA 30301    \n",
       "1  job description\\n\\n\"the road that leads to acc...         Atlanta, GA   \n",
       "2  growing company located in the atlanta, ga are...         Atlanta, GA   \n",
       "3  department: program operationsposition locatio...  Atlanta, GA 30303    \n",
       "4  description\\nthe emory university department o...         Atlanta, GA   \n",
       "\n",
       "   skills_description  skills_position  has_salary  \n",
       "0               False            False        True  \n",
       "1                True            False       False  \n",
       "2                True            False        True  \n",
       "3                True             True       False  \n",
       "4               False            False       False  "
      ]
     },
     "execution_count": 310,
     "metadata": {},
     "output_type": "execute_result"
    }
   ],
   "source": [
    "#test\n",
    "df.head()"
   ]
  },
  {
   "cell_type": "code",
   "execution_count": 311,
   "id": "experimental-defendant",
   "metadata": {},
   "outputs": [],
   "source": [
    "# do the same with the position column\n",
    "\n",
    "# define list of  Data Analyst\n",
    "lst_pos = ['Data Analyst']\n",
    "df['skills_position'] = df['position'].str.contains(\" | \".join(lst_pos))\n",
    "\n",
    "# change uppercase letters to lowercase\n",
    "for i in range(len(lst_pos)):\n",
    "    lst_pos[i] = lst_pos[i].lower()\n",
    "\n",
    "# create new column with boolean values    \n",
    "df['skills_position'] = df['position'].str.contains(\" | \".join(lst_pos))"
   ]
  },
  {
   "cell_type": "code",
   "execution_count": 295,
   "id": "ruled-tennessee",
   "metadata": {},
   "outputs": [
    {
     "data": {
      "text/html": [
       "<div>\n",
       "<style scoped>\n",
       "    .dataframe tbody tr th:only-of-type {\n",
       "        vertical-align: middle;\n",
       "    }\n",
       "\n",
       "    .dataframe tbody tr th {\n",
       "        vertical-align: top;\n",
       "    }\n",
       "\n",
       "    .dataframe thead th {\n",
       "        text-align: right;\n",
       "    }\n",
       "</style>\n",
       "<table border=\"1\" class=\"dataframe\">\n",
       "  <thead>\n",
       "    <tr style=\"text-align: right;\">\n",
       "      <th></th>\n",
       "      <th>position</th>\n",
       "      <th>company</th>\n",
       "      <th>description</th>\n",
       "      <th>location</th>\n",
       "      <th>skills_description</th>\n",
       "      <th>skills_position</th>\n",
       "    </tr>\n",
       "  </thead>\n",
       "  <tbody>\n",
       "    <tr>\n",
       "      <th>0</th>\n",
       "      <td>development director</td>\n",
       "      <td>ALS TDI</td>\n",
       "      <td>development director\\nals therapy development ...</td>\n",
       "      <td>Atlanta, GA 30301</td>\n",
       "      <td>False</td>\n",
       "      <td>False</td>\n",
       "    </tr>\n",
       "    <tr>\n",
       "      <th>1</th>\n",
       "      <td>an ostentatiously-excitable principal research...</td>\n",
       "      <td>The Hexagon Lavish</td>\n",
       "      <td>job description\\n\\n\"the road that leads to acc...</td>\n",
       "      <td>Atlanta, GA</td>\n",
       "      <td>True</td>\n",
       "      <td>False</td>\n",
       "    </tr>\n",
       "    <tr>\n",
       "      <th>2</th>\n",
       "      <td>data scientist</td>\n",
       "      <td>Xpert Staffing</td>\n",
       "      <td>growing company located in the atlanta, ga are...</td>\n",
       "      <td>Atlanta, GA</td>\n",
       "      <td>True</td>\n",
       "      <td>False</td>\n",
       "    </tr>\n",
       "    <tr>\n",
       "      <th>3</th>\n",
       "      <td>data analyst</td>\n",
       "      <td>Operation HOPE</td>\n",
       "      <td>department: program operationsposition locatio...</td>\n",
       "      <td>Atlanta, GA 30303</td>\n",
       "      <td>True</td>\n",
       "      <td>True</td>\n",
       "    </tr>\n",
       "    <tr>\n",
       "      <th>4</th>\n",
       "      <td>assistant professor -tt - signal processing &amp; ...</td>\n",
       "      <td>Emory University</td>\n",
       "      <td>description\\nthe emory university department o...</td>\n",
       "      <td>Atlanta, GA</td>\n",
       "      <td>False</td>\n",
       "      <td>False</td>\n",
       "    </tr>\n",
       "  </tbody>\n",
       "</table>\n",
       "</div>"
      ],
      "text/plain": [
       "                                            position             company  \\\n",
       "0                               development director             ALS TDI   \n",
       "1  an ostentatiously-excitable principal research...  The Hexagon Lavish   \n",
       "2                                     data scientist      Xpert Staffing   \n",
       "3                                       data analyst      Operation HOPE   \n",
       "4  assistant professor -tt - signal processing & ...    Emory University   \n",
       "\n",
       "                                         description            location  \\\n",
       "0  development director\\nals therapy development ...  Atlanta, GA 30301    \n",
       "1  job description\\n\\n\"the road that leads to acc...         Atlanta, GA   \n",
       "2  growing company located in the atlanta, ga are...         Atlanta, GA   \n",
       "3  department: program operationsposition locatio...  Atlanta, GA 30303    \n",
       "4  description\\nthe emory university department o...         Atlanta, GA   \n",
       "\n",
       "   skills_description  skills_position  \n",
       "0               False            False  \n",
       "1                True            False  \n",
       "2                True            False  \n",
       "3                True             True  \n",
       "4               False            False  "
      ]
     },
     "execution_count": 295,
     "metadata": {},
     "output_type": "execute_result"
    }
   ],
   "source": [
    "df.head()"
   ]
  },
  {
   "cell_type": "code",
   "execution_count": 303,
   "id": "other-gabriel",
   "metadata": {},
   "outputs": [],
   "source": [
    "# do the same to get is description has salary or not\n",
    "# define list of salary keywords\n",
    "lst_salary = ['Salary', 'salary']\n",
    "df['has_salary'] = df['description'].str.contains(\" | \".join(lst_salary))"
   ]
  },
  {
   "cell_type": "code",
   "execution_count": 304,
   "id": "concerned-precipitation",
   "metadata": {},
   "outputs": [
    {
     "data": {
      "text/html": [
       "<div>\n",
       "<style scoped>\n",
       "    .dataframe tbody tr th:only-of-type {\n",
       "        vertical-align: middle;\n",
       "    }\n",
       "\n",
       "    .dataframe tbody tr th {\n",
       "        vertical-align: top;\n",
       "    }\n",
       "\n",
       "    .dataframe thead th {\n",
       "        text-align: right;\n",
       "    }\n",
       "</style>\n",
       "<table border=\"1\" class=\"dataframe\">\n",
       "  <thead>\n",
       "    <tr style=\"text-align: right;\">\n",
       "      <th></th>\n",
       "      <th>position</th>\n",
       "      <th>company</th>\n",
       "      <th>description</th>\n",
       "      <th>location</th>\n",
       "      <th>skills_description</th>\n",
       "      <th>skills_position</th>\n",
       "      <th>has_salary</th>\n",
       "    </tr>\n",
       "  </thead>\n",
       "  <tbody>\n",
       "    <tr>\n",
       "      <th>0</th>\n",
       "      <td>development director</td>\n",
       "      <td>ALS TDI</td>\n",
       "      <td>development director\\nals therapy development ...</td>\n",
       "      <td>Atlanta, GA 30301</td>\n",
       "      <td>False</td>\n",
       "      <td>False</td>\n",
       "      <td>True</td>\n",
       "    </tr>\n",
       "    <tr>\n",
       "      <th>1</th>\n",
       "      <td>an ostentatiously-excitable principal research...</td>\n",
       "      <td>The Hexagon Lavish</td>\n",
       "      <td>job description\\n\\n\"the road that leads to acc...</td>\n",
       "      <td>Atlanta, GA</td>\n",
       "      <td>True</td>\n",
       "      <td>False</td>\n",
       "      <td>False</td>\n",
       "    </tr>\n",
       "    <tr>\n",
       "      <th>2</th>\n",
       "      <td>data scientist</td>\n",
       "      <td>Xpert Staffing</td>\n",
       "      <td>growing company located in the atlanta, ga are...</td>\n",
       "      <td>Atlanta, GA</td>\n",
       "      <td>True</td>\n",
       "      <td>False</td>\n",
       "      <td>True</td>\n",
       "    </tr>\n",
       "    <tr>\n",
       "      <th>3</th>\n",
       "      <td>data analyst</td>\n",
       "      <td>Operation HOPE</td>\n",
       "      <td>department: program operationsposition locatio...</td>\n",
       "      <td>Atlanta, GA 30303</td>\n",
       "      <td>True</td>\n",
       "      <td>True</td>\n",
       "      <td>False</td>\n",
       "    </tr>\n",
       "    <tr>\n",
       "      <th>4</th>\n",
       "      <td>assistant professor -tt - signal processing &amp; ...</td>\n",
       "      <td>Emory University</td>\n",
       "      <td>description\\nthe emory university department o...</td>\n",
       "      <td>Atlanta, GA</td>\n",
       "      <td>False</td>\n",
       "      <td>False</td>\n",
       "      <td>False</td>\n",
       "    </tr>\n",
       "  </tbody>\n",
       "</table>\n",
       "</div>"
      ],
      "text/plain": [
       "                                            position             company  \\\n",
       "0                               development director             ALS TDI   \n",
       "1  an ostentatiously-excitable principal research...  The Hexagon Lavish   \n",
       "2                                     data scientist      Xpert Staffing   \n",
       "3                                       data analyst      Operation HOPE   \n",
       "4  assistant professor -tt - signal processing & ...    Emory University   \n",
       "\n",
       "                                         description            location  \\\n",
       "0  development director\\nals therapy development ...  Atlanta, GA 30301    \n",
       "1  job description\\n\\n\"the road that leads to acc...         Atlanta, GA   \n",
       "2  growing company located in the atlanta, ga are...         Atlanta, GA   \n",
       "3  department: program operationsposition locatio...  Atlanta, GA 30303    \n",
       "4  description\\nthe emory university department o...         Atlanta, GA   \n",
       "\n",
       "   skills_description  skills_position  has_salary  \n",
       "0               False            False        True  \n",
       "1                True            False       False  \n",
       "2                True            False        True  \n",
       "3                True             True       False  \n",
       "4               False            False       False  "
      ]
     },
     "execution_count": 304,
     "metadata": {},
     "output_type": "execute_result"
    }
   ],
   "source": [
    "#test\n",
    "df.head()"
   ]
  },
  {
   "cell_type": "code",
   "execution_count": 305,
   "id": "urban-maintenance",
   "metadata": {},
   "outputs": [
    {
     "data": {
      "image/png": "[encoded data removed]",
      "text/plain": [
       "<Figure size 432x288 with 1 Axes>"
      ]
     },
     "metadata": {
      "needs_background": "light"
     },
     "output_type": "display_data"
    }
   ],
   "source": [
    "# plot outcome of new column\n",
    "ax = df['has_salary'].value_counts().plot(kind=\"bar\");\n",
    "plt.xlabel('Salary Information', fontsize=12)\n",
    "plt.ylabel('Number of job ads', fontsize=12)\n",
    "plt.xticks(rotation=15)\n",
    "plt.title('Proportion of Salaries included in the Job Description', fontsize=16)\n",
    "ax.set_xticklabels(['Salary excluded', 'Salary included']);"
   ]
  },
  {
   "cell_type": "code",
   "execution_count": 308,
   "id": "competitive-bottom",
   "metadata": {
    "scrolled": true
   },
   "outputs": [
    {
     "data": {
      "image/png": "[encoded data removed]",
      "text/plain": [
       "<Figure size 432x288 with 1 Axes>"
      ]
     },
     "metadata": {
      "needs_background": "light"
     },
     "output_type": "display_data"
    }
   ],
   "source": [
    "# plot the outcome of the two columns into one chartb\n",
    "ax = df['skills_description'].value_counts().plot(kind=\"bar\");\n",
    "plt.ylabel('Number of job ads', fontsize=12)\n",
    "plt.xticks(rotation=15)\n",
    "plt.title('Job Ads looking for Data Analyst based on Description vs Position', fontsize=16)\n",
    "ax.set_xticklabels(['Based on Description', 'Based on Position Title']);"
   ]
  },
  {
   "cell_type": "code",
   "execution_count": null,
   "id": "coral-audit",
   "metadata": {},
   "outputs": [],
   "source": [
    "# count ocorrences of the top 10 locations with \"Data Analyst\"in position\n",
    "df.groupby(\"location\", sort=False)[\"position\"].apply(\n",
    "     lambda df: df.str.contains(\"Data Analyst\").sum()\n",
    " ).nlargest(10)"
   ]
  },
  {
   "cell_type": "code",
   "execution_count": null,
   "id": "convinced-camcorder",
   "metadata": {},
   "outputs": [],
   "source": []
  },
  {
   "cell_type": "code",
   "execution_count": null,
   "id": "impaired-nicholas",
   "metadata": {},
   "outputs": [],
   "source": []
  },
  {
   "cell_type": "code",
   "execution_count": null,
   "id": "commercial-moment",
   "metadata": {},
   "outputs": [],
   "source": []
  },
  {
   "cell_type": "code",
   "execution_count": null,
   "id": "likely-reservoir",
   "metadata": {},
   "outputs": [],
   "source": [
    "# count most frequent values of location column\n",
    "df['location'].value_counts()"
   ]
  },
  {
   "cell_type": "code",
   "execution_count": null,
   "id": "sunset-colleague",
   "metadata": {},
   "outputs": [],
   "source": [
    "# addign new variable to top locations\n",
    "top_locations = df['location'].value_counts()\n",
    "top_locations"
   ]
  },
  {
   "cell_type": "code",
   "execution_count": null,
   "id": "consistent-popularity",
   "metadata": {},
   "outputs": [],
   "source": [
    "# define top 5 locations\n",
    "top_locations[:5]"
   ]
  },
  {
   "cell_type": "code",
   "execution_count": null,
   "id": "compact-complex",
   "metadata": {},
   "outputs": [],
   "source": [
    "# plot top 5 locations\n",
    "top_locations[:5].plot(kind=\"bar\");"
   ]
  },
  {
   "cell_type": "code",
   "execution_count": null,
   "id": "interested-worcester",
   "metadata": {},
   "outputs": [],
   "source": [
    "# count most frequent values of location column\n",
    "# addign new variable to top locations\n",
    "\n",
    "top_companies = df['company'].value_counts()\n",
    "top_companies"
   ]
  },
  {
   "cell_type": "code",
   "execution_count": null,
   "id": "cellular-transcript",
   "metadata": {},
   "outputs": [],
   "source": [
    "# plot top 5 locations\n",
    "top_companies[:5].plot(kind=\"bar\");"
   ]
  },
  {
   "cell_type": "code",
   "execution_count": null,
   "id": "protecting-suicide",
   "metadata": {},
   "outputs": [],
   "source": [
    "# identidy rows for seniority level as 'Intern', 'Junior', 'Associated', 'Internship', 'Entry-level'\n",
    "lst_level = ['Intern', 'Junior', 'Associated', 'Internship', 'Entry-level', 'Entry level']\n",
    "df['description_level'] = df['description'].str.contains(\" | \".join(lst_level))"
   ]
  },
  {
   "cell_type": "code",
   "execution_count": null,
   "id": "focal-superintendent",
   "metadata": {},
   "outputs": [],
   "source": [
    "df.head()"
   ]
  },
  {
   "cell_type": "code",
   "execution_count": null,
   "id": "operating-musical",
   "metadata": {},
   "outputs": [],
   "source": [
    "# filter by top locations for Data Analyst positions\n",
    "df.groupby('location', sort=False)['position'].apply(\n",
    "     lambda df: df.str.contains(\"Data Analyst\").sum()\n",
    " ).nlargest(10)"
   ]
  },
  {
   "cell_type": "code",
   "execution_count": null,
   "id": "english-tutorial",
   "metadata": {},
   "outputs": [],
   "source": []
  }
 ],
 "metadata": {
  "kernelspec": {
   "display_name": "Python 3",
   "language": "python",
   "name": "python3"
  },
  "language_info": {
   "codemirror_mode": {
    "name": "ipython",
    "version": 3
   },
   "file_extension": ".py",
   "mimetype": "text/x-python",
   "name": "python",
   "nbconvert_exporter": "python",
   "pygments_lexer": "ipython3",
   "version": "3.8.5"
  }
 },
 "nbformat": 4,
 "nbformat_minor": 5
}
